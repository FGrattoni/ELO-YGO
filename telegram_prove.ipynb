{
 "cells": [
  {
   "cell_type": "code",
   "execution_count": 2,
   "metadata": {},
   "outputs": [],
   "source": [
    "import requests\n",
    "\n",
    "def telegram_send_message(message, bot_id, chat_id):\n",
    "    url_req = \"https://api.telegram.org/bot\" + bot_id + \"/sendMessage\" + \"?chat_id=\" + chat_id + \"&text=\" + message + \"&parse_mode=HTML\"\n",
    "    requests.get(url_req)\n",
    "    return True\n",
    "\n",
    "def telegram_send_image(img_url, bot_id, chat_id):\n",
    "    url_req = \"https://api.telegram.org/bot\"+bot_id+\"/sendPhoto?chat_id=\"+chat_id+\"&photo=\"+img_url\n",
    "    requests.get(url_req)\n",
    "    return True\n",
    "\n",
    "chat_id = \"-934968070\"\n",
    "bot_id = \"5109578944:AAFq0bkcJYFCRVnyJSTXt7mQPlpxw56R7I4\""
   ]
  },
  {
   "cell_type": "code",
   "execution_count": 5,
   "metadata": {},
   "outputs": [
    {
     "data": {
      "text/plain": [
       "True"
      ]
     },
     "execution_count": 5,
     "metadata": {},
     "output_type": "execute_result"
    }
   ],
   "source": [
    "telegram_send_image(\"https://i.imgur.com/XWBvmX6.gif\", bot_id, chat_id)\n"
   ]
  }
 ],
 "metadata": {
  "kernelspec": {
   "display_name": "Python 3",
   "language": "python",
   "name": "python3"
  },
  "language_info": {
   "codemirror_mode": {
    "name": "ipython",
    "version": 3
   },
   "file_extension": ".py",
   "mimetype": "text/x-python",
   "name": "python",
   "nbconvert_exporter": "python",
   "pygments_lexer": "ipython3",
   "version": "3.10.2"
  },
  "orig_nbformat": 4
 },
 "nbformat": 4,
 "nbformat_minor": 2
}
